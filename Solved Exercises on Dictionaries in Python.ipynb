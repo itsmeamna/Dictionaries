{
 "cells": [
  {
   "cell_type": "code",
   "execution_count": 33,
   "id": "86415f5d-b0ea-43b7-8f48-4b543d8b2964",
   "metadata": {},
   "outputs": [
    {
     "name": "stdout",
     "output_type": "stream",
     "text": [
      "Name: zara\n",
      "Age: 25\n",
      "City: lahore\n",
      "Hobbies: ['reading', 'painting', 'photography', 'pottery']\n"
     ]
    }
   ],
   "source": [
    "person_info = {\n",
    "    \"name\":\"zara\",\n",
    "    \"age\":25,\n",
    "    \"city\":\"lahore\",\n",
    "    \"hobbies\":[\"reading\",\"painting\",\"photography\",\"pottery\"]\n",
    "}\n",
    "print(\"Name:\", person_info[\"name\"])\n",
    "print(\"Age:\", person_info[\"age\"])\n",
    "print(\"City:\", person_info[\"city\"])\n",
    "print(\"Hobbies:\", (person_info[\"hobbies\"]))"
   ]
  },
  {
   "cell_type": "code",
   "execution_count": 25,
   "id": "0305c50e-fa72-4bdd-a318-09fd1b6fae22",
   "metadata": {},
   "outputs": [
    {
     "name": "stdin",
     "output_type": "stream",
     "text": [
      "Enter some text: what were you thinking when you were asking this \n"
     ]
    },
    {
     "name": "stdout",
     "output_type": "stream",
     "text": [
      "\n",
      " Words count:\n",
      "{'what': 1, 'were': 2, 'you': 2, 'thinking': 1, 'when': 1, 'asking': 1, 'this': 1}\n"
     ]
    }
   ],
   "source": [
    "text = input(\"Enter some text:\")\n",
    "words = text.split()\n",
    "word_count = {}\n",
    "for word in words:\n",
    "    word_count[word] = word_count.get(word,0) + 1\n",
    "print(\"\\n Words count:\")\n",
    "print(word_count)\n"
   ]
  },
  {
   "cell_type": "code",
   "execution_count": 99,
   "id": "683ae6fd-d2b3-4306-bc16-95b9a43c94ac",
   "metadata": {},
   "outputs": [
    {
     "name": "stdout",
     "output_type": "stream",
     "text": [
      "Current inventory: {'apple': 10, 'orange': 15, 'grapes': 20, 'mangoes': 35}\n",
      "Added peaches: {'apple': 10, 'orange': 15, 'grapes': 20, 'mangoes': 35, 'peach': 16}\n",
      "Updated apples quantity: {'apple': 16, 'orange': 15, 'grapes': 20, 'mangoes': 35, 'peach': 16}\n",
      "Removed oranges: {'apple': 16, 'grapes': 20, 'mangoes': 35, 'peach': 16}\n",
      "Grapes quantity: 20\n",
      "All items: ['apple', 'grapes', 'mangoes', 'peach']\n",
      "All quantities: [16, 20, 35, 16]\n",
      "Total items: 4\n"
     ]
    }
   ],
   "source": [
    "inventory = {\n",
    "    \"apple\": 10,\n",
    "    \"orange\": 15,\n",
    "    \"grapes\": 20,\n",
    "    \"mangoes\": 35\n",
    "}\n",
    "print(\"Current inventory:\",inventory)\n",
    "\n",
    "inventory[\"peach\"]= 16\n",
    "print(\"Added peaches:\",inventory)\n",
    "\n",
    "inventory[\"apple\"] += 6\n",
    "print(\"Updated apples quantity:\",inventory)\n",
    "\n",
    "del inventory[\"orange\"]\n",
    "print(\"Removed oranges:\",inventory)\n",
    "\n",
    "print(\"Grapes quantity:\",inventory[\"grapes\"])\n",
    "\n",
    "print(\"All items:\",list(inventory.keys()))\n",
    "\n",
    "print(\"All quantities:\",list(inventory.values()))\n",
    "\n",
    "print(\"Total items:\",len(inventory))\n"
   ]
  },
  {
   "cell_type": "code",
   "execution_count": 39,
   "id": "207ceeec-4012-4fb1-9754-91403c94c09d",
   "metadata": {},
   "outputs": [
    {
     "name": "stdout",
     "output_type": "stream",
     "text": [
      "Most Popular Category: Electronics\n",
      "Occurrences: 3\n"
     ]
    }
   ],
   "source": [
    "orders = [\n",
    "    {\"category\": \"Electronics\"},\n",
    "    {\"category\": \"Clothing\"},\n",
    "    {\"category\": \"Electronics\"},\n",
    "    {\"category\": \"Home\"},\n",
    "    {\"category\": \"Electronics\"}\n",
    "]\n",
    "\n",
    "category_freq = {}\n",
    "for order in orders:\n",
    "    category = order['category']\n",
    "    if category in category_freq:\n",
    "        category_freq[category] += 1\n",
    "    else:\n",
    "        category_freq[category] = 1\n",
    "\n",
    "most_popular = \"\"\n",
    "max_count = 0\n",
    "for category, count in category_freq.items():\n",
    "    if count > max_count:\n",
    "        most_popular = category\n",
    "        max_count = count\n",
    "\n",
    "print(f\"Most Popular Category: {most_popular}\")\n",
    "print(f\"Occurrences: {max_count}\")"
   ]
  },
  {
   "cell_type": "code",
   "execution_count": 41,
   "id": "8f0f5836-db04-40ca-8ff7-5d1a12504869",
   "metadata": {},
   "outputs": [
    {
     "name": "stdout",
     "output_type": "stream",
     "text": [
      "Bob's Average:72.0\n",
      "Alice's Average:74.5\n",
      "Jennifer's Average:70.75\n"
     ]
    }
   ],
   "source": [
    "grades = {\n",
    "    \"Bob\": [45,99,88,56],\n",
    "    \"Alice\": [55,98,66,79],\n",
    "    \"Jennifer\": [66,88,59,70]\n",
    "}\n",
    "for student in grades:\n",
    "    total = sum(grades[student])\n",
    "    count = len(grades[student])\n",
    "    average = total/count\n",
    "    print(f\"{student}'s Average:{average}\")"
   ]
  },
  {
   "cell_type": "code",
   "execution_count": 43,
   "id": "74b94cd0-5506-4493-94f7-bb01e5be6c32",
   "metadata": {},
   "outputs": [
    {
     "name": "stdout",
     "output_type": "stream",
     "text": [
      "Updated inventory: {'laptop': {'quantity': 3, 'price': 1000}, 'mouse': {'quantity': 50, 'price': 10}, 'keyboard': {'quantity': 2, 'price': 20}}\n",
      "Total inventory value: 3540\n",
      "Low stock items:\n",
      "laptop has only 3 items left.\n",
      "keyboard has only 2 items left.\n"
     ]
    }
   ],
   "source": [
    "inventory = {}\n",
    "\n",
    "# Add a product\n",
    "inventory[\"laptop\"] = {\"quantity\": 5, \"price\": 1000}\n",
    "inventory[\"mouse\"] = {\"quantity\": 50, \"price\": 10}\n",
    "inventory[\"keyboard\"] = {\"quantity\": 2, \"price\": 20}\n",
    "\n",
    "# Update quantity of an existing product\n",
    "inventory[\"laptop\"][\"quantity\"] -= 2  # Sold 2 laptops\n",
    "print(\"Updated inventory:\", inventory)\n",
    "\n",
    "# Calculate total inventory value\n",
    "total_value = 0\n",
    "for product in inventory:\n",
    "    total_value += inventory[product][\"quantity\"] * inventory[product][\"price\"]\n",
    "print(\"Total inventory value:\", total_value)\n",
    "\n",
    "# Check for low stock\n",
    "threshold = 10\n",
    "print(\"Low stock items:\")\n",
    "for product in inventory:\n",
    "    if inventory[product][\"quantity\"] < threshold:\n",
    "        print(product, \"has only\", inventory[product][\"quantity\"], \"items left.\")"
   ]
  },
  {
   "cell_type": "code",
   "execution_count": 83,
   "id": "0968ffda-98b4-4659-b8a3-d47638892cac",
   "metadata": {},
   "outputs": [
    {
     "name": "stdout",
     "output_type": "stream",
     "text": [
      "Average grades for each student:\n",
      "Bob: 84.33333333333333\n",
      "James: 91.66666666666667\n",
      "Charles: 75.0\n",
      "\n",
      "Highest and Lowest in Math:\n",
      "Highest in Math: James with grade 92\n",
      "Lowest in Math: Charles with grade 75\n",
      "\n",
      "Students sorted by average grade:\n",
      "James: 91.66666666666667\n",
      "Bob: 84.33333333333333\n",
      "Charles: 75.0\n"
     ]
    }
   ],
   "source": [
    "\n",
    "students = {\n",
    "    \"Bob\": {\"math\": 85, \"english\": 90, \"science\": 78},\n",
    "    \"James\": {\"math\": 92, \"english\": 88, \"science\": 95},\n",
    "    \"Charles\": {\"math\": 75, \"english\": 70, \"science\": 80}\n",
    "}\n",
    "\n",
    "\n",
    "for student, grades in students.items():\n",
    "    average = sum(grades.values()) / len(grades)\n",
    "    students[student][\"average\"] = average\n",
    "\n",
    "\n",
    "math_grades = {student: grades[\"math\"] for student, grades in students.items()}\n",
    "highest_math = max(math_grades, key=math_grades.get)\n",
    "lowest_math = min(math_grades, key=math_grades.get)\n",
    "\n",
    "\n",
    "sorted_students = sorted(students.items(), key=lambda x: x[1][\"average\"], reverse=True)\n",
    "\n",
    "\n",
    "print(\"Average grades for each student:\")\n",
    "for student, grades in students.items():\n",
    "    print(f\"{student}: {grades['average']}\")\n",
    "\n",
    "print(\"\\nHighest and Lowest in Math:\")\n",
    "print(f\"Highest in Math: {highest_math} with grade {math_grades[highest_math]}\")\n",
    "print(f\"Lowest in Math: {lowest_math} with grade {math_grades[lowest_math]}\")\n",
    "\n",
    "print(\"\\nStudents sorted by average grade:\")\n",
    "for student, grades in sorted_students:\n",
    "    print(f\"{student}: {grades['average']}\")"
   ]
  },
  {
   "cell_type": "code",
   "execution_count": 95,
   "id": "3d97a878-174c-41d4-a89a-7658707d3e90",
   "metadata": {},
   "outputs": [
    {
     "name": "stdout",
     "output_type": "stream",
     "text": [
      "Added 5 apples to the cart.\n",
      "Added 3 peaches to the cart.\n",
      "Removed 2 apples from the cart.\n",
      "Total cost before discount and tax: 18000\n",
      "Total cost after 10% discount: 16200.0\n",
      "Total cost after tax: 17010.0\n"
     ]
    }
   ],
   "source": [
    "products={\n",
    "    \"apples\": {\"price\":5000,\"quantity\":50},\n",
    "    \"peaches\": {\"price\":1000,\"quantity\":20},\n",
    "    \"mangoes\": {\"price\":2500, \"quantity\":15}\n",
    "}\n",
    "\n",
    "cart = {}\n",
    "\n",
    "\n",
    "cart[\"apples\"] = {\"price\": 5000, \"quantity\": 5}\n",
    "products[\"apples\"][\"quantity\"] -= 5  # Update stock\n",
    "print(\"Added 5 apples to the cart.\")\n",
    "\n",
    "cart[\"peaches\"] = {\"price\": 1000, \"quantity\": 3}\n",
    "products[\"peaches\"][\"quantity\"] -= 3  # Update stock\n",
    "print(\"Added 3 peaches to the cart.\")\n",
    "\n",
    "\n",
    "cart[\"apples\"][\"quantity\"] -= 2  # Remove 2 apples\n",
    "products[\"apples\"][\"quantity\"] += 2  # Update stock\n",
    "print(\"Removed 2 apples from the cart.\")\n",
    "\n",
    "# Calculate the total cost of items in the cart\n",
    "total_cost = 0\n",
    "for product in cart:\n",
    "    total_cost += cart[product][\"price\"] * cart[product][\"quantity\"]\n",
    "\n",
    "print(\"Total cost before discount and tax:\", total_cost)\n",
    "\n",
    "# Apply a 10% discount\n",
    "discount = total_cost * 0.10\n",
    "after_disc = total_cost - discount\n",
    "print(\"Total cost after 10% discount:\",after_disc)\n",
    "\n",
    "# Apply a 5% tax\n",
    "tax = after_disc * 0.05\n",
    "with_tax = after_disc + tax\n",
    "print(\"Total cost after tax:\",with_tax)"
   ]
  }
 ],
 "metadata": {
  "kernelspec": {
   "display_name": "Python 3 (ipykernel)",
   "language": "python",
   "name": "python3"
  },
  "language_info": {
   "codemirror_mode": {
    "name": "ipython",
    "version": 3
   },
   "file_extension": ".py",
   "mimetype": "text/x-python",
   "name": "python",
   "nbconvert_exporter": "python",
   "pygments_lexer": "ipython3",
   "version": "3.12.4"
  }
 },
 "nbformat": 4,
 "nbformat_minor": 5
}
